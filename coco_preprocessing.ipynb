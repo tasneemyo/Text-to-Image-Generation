{
  "nbformat": 4,
  "nbformat_minor": 0,
  "metadata": {
    "colab": {
      "provenance": []
    },
    "kernelspec": {
      "name": "python3",
      "display_name": "Python 3"
    },
    "language_info": {
      "name": "python"
    }
  },
  "cells": [
    {
      "cell_type": "code",
      "source": [
        "!wget http://images.cocodataset.org/annotations/annotations_trainval2017.zip\n",
        "!unzip annotations_trainval2017.zip\n"
      ],
      "metadata": {
        "colab": {
          "base_uri": "https://localhost:8080/"
        },
        "id": "J9Vk_AamzwoN",
        "outputId": "b0e40834-c469-494f-d5ae-a30310080f71"
      },
      "execution_count": 2,
      "outputs": [
        {
          "output_type": "stream",
          "name": "stdout",
          "text": [
            "--2025-09-20 20:28:39--  http://images.cocodataset.org/annotations/annotations_trainval2017.zip\n",
            "Resolving images.cocodataset.org (images.cocodataset.org)... 54.231.166.177, 52.216.92.219, 52.216.44.25, ...\n",
            "Connecting to images.cocodataset.org (images.cocodataset.org)|54.231.166.177|:80... connected.\n",
            "HTTP request sent, awaiting response... 200 OK\n",
            "Length: 252907541 (241M) [application/zip]\n",
            "Saving to: ‘annotations_trainval2017.zip’\n",
            "\n",
            "annotations_trainva 100%[===================>] 241.19M  18.7MB/s    in 14s     \n",
            "\n",
            "2025-09-20 20:28:53 (17.2 MB/s) - ‘annotations_trainval2017.zip’ saved [252907541/252907541]\n",
            "\n",
            "Archive:  annotations_trainval2017.zip\n",
            "replace annotations/instances_train2017.json? [y]es, [n]o, [A]ll, [N]one, [r]ename: y\n",
            "  inflating: annotations/instances_train2017.json  \n",
            "y\n",
            "\n",
            "replace annotations/instances_val2017.json? [y]es, [n]o, [A]ll, [N]one, [r]ename: error:  invalid response [{ENTER}]\n",
            "replace annotations/instances_val2017.json? [y]es, [n]o, [A]ll, [N]one, [r]ename:   inflating: annotations/instances_val2017.json  \n",
            "replace annotations/captions_train2017.json? [y]es, [n]o, [A]ll, [N]one, [r]ename: y\n",
            "  inflating: annotations/captions_train2017.json  \n",
            "replace annotations/captions_val2017.json? [y]es, [n]o, [A]ll, [N]one, [r]ename: n\n",
            "replace annotations/person_keypoints_train2017.json? [y]es, [n]o, [A]ll, [N]one, [r]ename: a\n",
            "error:  invalid response [a]\n",
            "replace annotations/person_keypoints_train2017.json? [y]es, [n]o, [A]ll, [N]one, [r]ename: A\n",
            "  inflating: annotations/person_keypoints_train2017.json  \n",
            "  inflating: annotations/person_keypoints_val2017.json  \n"
          ]
        }
      ]
    },
    {
      "cell_type": "code",
      "source": [
        "train_captions = \"/content/annotations/captions_train2017.json\"\n"
      ],
      "metadata": {
        "id": "Ej5OAscQvc0t"
      },
      "execution_count": 3,
      "outputs": []
    },
    {
      "cell_type": "code",
      "source": [
        "import json"
      ],
      "metadata": {
        "id": "Pt_I7eA81TdA"
      },
      "execution_count": 5,
      "outputs": []
    },
    {
      "cell_type": "code",
      "source": [
        "with open(train_captions, \"r\") as f:\n",
        "    data = json.load(f)\n",
        "\n",
        "print(data.keys())\n",
        "print(len(data[\"annotations\"]))\n",
        "print(data[\"annotations\"][0].values())"
      ],
      "metadata": {
        "colab": {
          "base_uri": "https://localhost:8080/"
        },
        "id": "2RcJd-gMw7rh",
        "outputId": "60308784-85fc-460f-dee6-725203919c0a"
      },
      "execution_count": 8,
      "outputs": [
        {
          "output_type": "stream",
          "name": "stdout",
          "text": [
            "dict_keys(['info', 'licenses', 'images', 'annotations'])\n",
            "591753\n",
            "dict_values([203564, 37, 'A bicycle replica with a clock as the front wheel.'])\n"
          ]
        }
      ]
    },
    {
      "cell_type": "code",
      "source": [
        "captions = []\n",
        "\n",
        "for ann in data[\"annotations\"][:]:\n",
        "    caption = ann[\"caption\"].lower()\n",
        "    captions.append(caption)\n",
        "\n"
      ],
      "metadata": {
        "id": "G46WdjERxUiV"
      },
      "execution_count": 21,
      "outputs": []
    },
    {
      "cell_type": "code",
      "source": [
        "print(len(captions))\n",
        "print(captions[:5])"
      ],
      "metadata": {
        "colab": {
          "base_uri": "https://localhost:8080/"
        },
        "id": "AiNr_YyC15ju",
        "outputId": "e578ed2a-09d5-4705-e3fd-e2e73fd84f33"
      },
      "execution_count": 22,
      "outputs": [
        {
          "output_type": "stream",
          "name": "stdout",
          "text": [
            "591753\n",
            "['a bicycle replica with a clock as the front wheel.', 'a room with blue walls and a white sink and door.', 'a car that seems to be parked illegally behind a legally parked car', 'a large passenger airplane flying through the air.', 'there is a gol plane taking off in a partly cloudy sky.']\n"
          ]
        }
      ]
    },
    {
      "cell_type": "code",
      "source": [
        "import spacy"
      ],
      "metadata": {
        "id": "JA11Dn1oxaXF"
      },
      "execution_count": 23,
      "outputs": []
    },
    {
      "cell_type": "code",
      "source": [
        "nlp = spacy.load(\"en_core_web_sm\")"
      ],
      "metadata": {
        "id": "24iFm19Ayra5"
      },
      "execution_count": 24,
      "outputs": []
    },
    {
      "cell_type": "code",
      "source": [
        "tokenized_captions = []\n",
        "\n",
        "for caption in captions:\n",
        "    doc = nlp(caption)\n",
        "    tokens = [token.text for token in doc]\n",
        "    tokenized_captions.append(tokens)\n"
      ],
      "metadata": {
        "id": "vK_Qkgqw4088"
      },
      "execution_count": 29,
      "outputs": []
    },
    {
      "cell_type": "code",
      "source": [
        "captions[1]"
      ],
      "metadata": {
        "colab": {
          "base_uri": "https://localhost:8080/",
          "height": 36
        },
        "id": "hmwTyhPfOwFo",
        "outputId": "1584656c-3c38-4cba-8cbf-ec61651e99ae"
      },
      "execution_count": 32,
      "outputs": [
        {
          "output_type": "execute_result",
          "data": {
            "text/plain": [
              "'a room with blue walls and a white sink and door.'"
            ],
            "application/vnd.google.colaboratory.intrinsic+json": {
              "type": "string"
            }
          },
          "metadata": {},
          "execution_count": 32
        }
      ]
    },
    {
      "cell_type": "code",
      "source": [
        "tokenized_captions[1]"
      ],
      "metadata": {
        "colab": {
          "base_uri": "https://localhost:8080/"
        },
        "id": "-pPqVpjL9TnV",
        "outputId": "d58bf868-ad7a-4251-9394-8a3f2ea29f55"
      },
      "execution_count": 31,
      "outputs": [
        {
          "output_type": "execute_result",
          "data": {
            "text/plain": [
              "['a',\n",
              " 'room',\n",
              " 'with',\n",
              " 'blue',\n",
              " 'walls',\n",
              " 'and',\n",
              " 'a',\n",
              " 'white',\n",
              " 'sink',\n",
              " 'and',\n",
              " 'door',\n",
              " '.']"
            ]
          },
          "metadata": {},
          "execution_count": 31
        }
      ]
    },
    {
      "cell_type": "code",
      "source": [
        "with open(\"tokenized_captions.json\", \"w\") as f:\n",
        "    json.dump(tokenized_captions, f)"
      ],
      "metadata": {
        "id": "H4iXw_2MOtbP"
      },
      "execution_count": 33,
      "outputs": []
    },
    {
      "cell_type": "code",
      "source": [
        "import pickle\n",
        "\n",
        "# Save\n",
        "with open(\"tokenized_captions.pkl\", \"wb\") as f:\n",
        "    pickle.dump(tokenized_captions, f)\n",
        "\n",
        "# Load\n",
        "with open(\"tokenized_captions.pkl\", \"rb\") as f:\n",
        "    tokenized_captions = pickle.load(f)\n"
      ],
      "metadata": {
        "id": "937qn4AgPFlr"
      },
      "execution_count": 34,
      "outputs": []
    },
    {
      "cell_type": "code",
      "source": [],
      "metadata": {
        "id": "8Z0z0wyqPYvK"
      },
      "execution_count": null,
      "outputs": []
    }
  ]
}